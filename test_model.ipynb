{
 "cells": [
  {
   "cell_type": "markdown",
   "metadata": {},
   "source": [
    "# 🔤 FastText Model Test\n",
    "This notebook demonstrates how to load and test a FastText model using Python.\n",
    "\n",
    "You will learn how to:\n",
    "- Load a FastText `.bin` model\n",
    "- Retrieve word vectors\n",
    "- Find the most similar words"
   ]
  },
  {
   "cell_type": "code",
   "execution_count": null,
   "metadata": {},
   "outputs": [],
   "source": [
    "import fasttext\n",
    "from pathlib import Path"
   ]
  },
  {
   "cell_type": "code",
   "execution_count": null,
   "metadata": {},
   "outputs": [],
   "source": [
    "# Path to the FastText model\n",
    "MODEL_PATH = Path(\"UgannA_Siyabasa.bin\")\n",
    "\n",
    "print(\"Loading FastText model...\")\n",
    "model = fasttext.load_model(str(MODEL_PATH))\n",
    "print(\"Model loaded successfully!\")"
   ]
  },
  {
   "cell_type": "code",
   "execution_count": null,
   "metadata": {},
   "outputs": [],
   "source": [
    "# --- Test 1: Word Vector ---\n",
    "word = \"අම්මා\"\n",
    "try:\n",
    "    vector = model[word]\n",
    "    print(f\"Vector for '{word}' (size={len(vector)}):\\n{vector}\")\n",
    "except Exception:\n",
    "    print(f\"Word '{word}' not found in vocabulary.\")"
   ]
  },
  {
   "cell_type": "code",
   "execution_count": null,
   "metadata": {},
   "outputs": [],
   "source": [
    "# --- Test 2: Similar Words ---\n",
    "try:\n",
    "    print(f\"Top 10 words similar to '{word}':\")\n",
    "    for score, neighbor in model.get_nearest_neighbors(word, k=10):\n",
    "        print(f\"  {neighbor}: {score:.4f}\")\n",
    "except Exception:\n",
    "    print(f\"Unable to compute nearest neighbors for '{word}'.\")"
   ]
  }
 ],
 "metadata": {
  "kernelspec": {
   "display_name": "Python 3",
   "language": "python",
   "name": "python3"
  },
  "language_info": {
   "name": "python",
   "version": "3.11"
  }
 },
 "nbformat": 4,
 "nbformat_minor": 5
}
